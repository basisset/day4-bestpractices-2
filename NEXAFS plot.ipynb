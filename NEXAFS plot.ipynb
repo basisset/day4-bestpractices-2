{
 "cells": [
  {
   "cell_type": "markdown",
   "id": "a723710f",
   "metadata": {},
   "source": [
    "# Plotting NEXAFS"
   ]
  },
  {
   "cell_type": "markdown",
   "id": "ca112025",
   "metadata": {},
   "source": [
    " In this segment, we will assume that we have a few data files to use in our plot. Generally, this type of data is produced in a regular text file, with energies in the first column, and intensities in following columns. Sometimes even polarized in different directions. However, in this case we will just include the excitations and from these plot the transitions as bars."
   ]
  },
  {
   "cell_type": "markdown",
   "id": "931241d5",
   "metadata": {},
   "source": [
    "We import necessary packages:"
   ]
  },
  {
   "cell_type": "code",
   "execution_count": 5,
   "id": "a1622457",
   "metadata": {},
   "outputs": [],
   "source": [
    "import matplotlib.pyplot as plt\n",
    "import numpy as np"
   ]
  },
  {
   "cell_type": "markdown",
   "id": "4093ad59",
   "metadata": {},
   "source": [
    "We create a function that opens the file and reads data"
   ]
  },
  {
   "cell_type": "code",
   "execution_count": 12,
   "id": "e918ee4a",
   "metadata": {},
   "outputs": [],
   "source": [
    "def parse_stk(filename):\n",
    "    energy = [] # energy of transition\n",
    "    intensity = [] # intensity of transition\n",
    "    with open(filename,'r') as f:\n",
    "        for i,line in enumerate(f.readlines()):\n",
    "            energy.append(line.split()[0])\n",
    "            intensity.append(line.split()[1])\n",
    "    energy = np.asarray(energy, dtype = np.float64)\n",
    "    intensity = np.asarray(intensity, dtype = np.float64)\n",
    "    return energy, intensity    "
   ]
  },
  {
   "cell_type": "markdown",
   "id": "23695439",
   "metadata": {},
   "source": [
    "And now we can plot using matplotlib"
   ]
  },
  {
   "cell_type": "code",
   "execution_count": 17,
   "id": "f8b61e61",
   "metadata": {},
   "outputs": [
    {
     "data": {
      "image/png": "[encoded data removed]",
      "text/plain": [
       "<Figure size 432x288 with 1 Axes>"
      ]
     },
     "metadata": {
      "needs_background": "light"
     },
     "output_type": "display_data"
    }
   ],
   "source": [
    "energy_shift = 0 # sometimes we want to shift the data\n",
    "en, peaks = parse_stk('XAS.out.socabs.stk')\n",
    "plt.bar(en+energy_shift,5*peaks, width = 0.02, color = 'black')\n",
    "plt.xlabel('Photon Energy [eV]')\n",
    "plt.ylabel('Intensity [arb. u.]')\n",
    "ax = plt.gca()\n",
    "ax.set_yticks([])\n",
    "ax.tick_params(direction = 'out')"
   ]
  },
  {
   "cell_type": "markdown",
   "id": "d33d8019",
   "metadata": {},
   "source": [
    "And this is how we can use Jupyter Notebook :)"
   ]
  }
 ],
 "metadata": {
  "kernelspec": {
   "display_name": "Python 3 (ipykernel)",
   "language": "python",
   "name": "python3"
  },
  "language_info": {
   "codemirror_mode": {
    "name": "ipython",
    "version": 3
   },
   "file_extension": ".py",
   "mimetype": "text/x-python",
   "name": "python",
   "nbconvert_exporter": "python",
   "pygments_lexer": "ipython3",
   "version": "3.9.5"
  }
 },
 "nbformat": 4,
 "nbformat_minor": 5
}
